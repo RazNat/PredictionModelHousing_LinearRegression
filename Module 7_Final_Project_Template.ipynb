{
 "cells": [
  {
   "cell_type": "markdown",
   "metadata": {},
   "source": [
    "# Final Project Template"
   ]
  },
  {
   "cell_type": "markdown",
   "metadata": {},
   "source": [
    "For the final project for this module, you are asked to use data analysis techniques and linear regression to create a model to predict housing prices. \n",
    "\n",
    "In Video 7.9, Dr. Williams presented you with an example of data analysis in which housing prices were predicted by using just the columns `OverallQual` and `MassVnrArea` from the data provided. In Video 7.10, Dr. Williams showed more examples of data visualization and manipulation in addition to a more detailed analysis of the data.\n",
    "\n",
    "Your challenge in this project is to improve Dr. Williams' results from Video 7.9 by choosing different variables in the *dataframe* to create your model. Although in Video 7.10 you are offered a sample data analysis which uses five columns from the data provided, your project submission must include an analysis of at least three additional variables and offer other solutions that improve the results obtained by Dr. Williams in these two videos.\n",
    "\n",
    "Before you fill out the project outline template below, make sure you:\n",
    "\n",
    "- Read through the template completely to understand the instructions for the structure of the project.\n",
    "- Have a clear understanding of what to do to create a model that will return the results you want to find.\n",
    "- Use Markdown to edit the template."
   ]
  },
  {
   "cell_type": "markdown",
   "metadata": {},
   "source": [
    "<div class=\"alert alert-block alert-success\">\n",
    "The purpose of this Jupyter Notebook is to give you a structure to follow when you are solving your problem and developing your model with Python. Make sure you follow it carefully. You can add more subsections if needed, but remember to fill out every section provided in the template.\n",
    "</div>"
   ]
  },
  {
   "cell_type": "markdown",
   "metadata": {},
   "source": [
    "<div class=\"alert alert-block alert-danger\">\n",
    "Delete all cells above, including this one, before submitting your final Notebook.\n",
    "</div>"
   ]
  },
  {
   "cell_type": "markdown",
   "metadata": {},
   "source": [
    "# Housing_Prediction\n",
    "\n",
    "**Rajat Nathan**\n"
   ]
  },
  {
   "cell_type": "markdown",
   "metadata": {},
   "source": [
    "# Index\n",
    "\n",
    "- [Abstract](#Abstract)\n",
    "- [1. Introduction](#1.-Introduction)\n",
    "- [2. The Data](#2.-The-Data)\n",
    "    - [2.1 Import the Data](#2.1-Import-the-Data)\n",
    "    - [2.2 Data Exploration](#2.2-Data-Exploration)\n",
    "    - [2.3 Data Preparation](#2.3-Data-Preparation)\n",
    "    - [2.4 Correlation](#2.4-Correlation)\n",
    "- [3. Project Description](#3.-Project-Description)\n",
    "    - [3.1 Linear Regression](#3.1-Linear-Regression)\n",
    "    - [3.2 Analysis](#3.2-Analysis)\n",
    "    - [3.3 Results](#3.3-Results)\n",
    "    - [3.4 Verify Your Model Against Test Data](#3.4-Verify-Your-Model-Against-Test-Data)\n",
    "- [Conclusion](#Conclusion)\n",
    "- [References](#References)"
   ]
  },
  {
   "cell_type": "markdown",
   "metadata": {},
   "source": [
    "[Back to top](#Index)\n",
    "\n",
    "\n",
    "##  Abstract\n",
    "\n",
    "__This is a brief description (150 words or less) of your analysis and results of your prediction model. Complete this portion of the template after you are done working on your project.__\n",
    "\n",
    "My housing prediction model uses linear regression to compute the relationship between dependent and independent variables. The model identifies this relationship through a linear equation that require computation of weights for each independent variable that must be applied to the values of independent variables such that:\n",
    "Y = w1 * X1 + w2 * X2 + w3 * X3 ....\n",
    "\n",
    "For this project - i identified 8 independent variables in the 'training data' that demonstrated the largest correlation with the dependent valiable: 'SalePrice'\n",
    "\n",
    "'Fitting' this data into the linear regression model from the sci-kit library (sklearn) resulted in a R^2 value of : **0.8824472376719946**\n",
    "\n",
    "Using this model R^2 value of the test data as : **0.7705677801288706**"
   ]
  },
  {
   "cell_type": "markdown",
   "metadata": {},
   "source": [
    "[Back to top](#Index)\n",
    "\n",
    "\n",
    "## 1. Introduction\n",
    "\n",
    "__Introduce your project using 300 words or less. Describe all the processes you followed to solve the problem and create your prediction model. Start by summarizing the steps that you intend to perform and then elaborate on this section after you have completed your project.__\n",
    "\n",
    "\n",
    "For this project - i identified 8 independent variables in the 'training data' that demonstrated the largest correlation with the dependent valiable: 'SalePrice'. The data shape of the frame at this time = 100 X 82.\n",
    "\n",
    "I then removed the columns with large number of NaNs - 15 or more count and interpolated the NaNs in the remaining numerical columns, so that i could work with a cleaner training data set. The data shape of the frame at this time = 100 X 77.\n",
    "\n",
    "From the remaining data set i identified the categorical data columns and used **one hot encoding** to transform categorical data into numerical columns(this process removed the small number of NaNs in categorical data). I then joined the categorical columns with the 'cleaned data set'; shape : 100 X 248 and then **dropped** the categorical columns from the 'cleaned data set'. The data shape of the frame at this time = 100 X 210. There are 38 categorical columns in the data.\n",
    "\n",
    "In the resulting data set, I then proceeded to calculate the correlation of the dependednt variable with the remaining columns to identify eight distinct independednt variables/columns (X) with the highest correlation with the dependent variable - 'SalePrice'(Y). I noted that one of the independent variables identified was a result of **one hot encoding** process implemented in the data cleasing/transformation process. This variable was called: BsmtQual_Ex - indicating excellent basement quality. \n",
    "\n",
    "\n",
    "Finally, a dataframe with the top 8 correlated variables to the dependent variable ‘SalePrice’ was created and used as an input to the linear regression model\n",
    "\n"
   ]
  },
  {
   "cell_type": "markdown",
   "metadata": {},
   "source": [
    "[Back to top](#Index)\n",
    "\n",
    "## 2. The Data\n",
    "\n",
    "For each of the steps below, make sure you include a description of your steps as well as your complete code. "
   ]
  },
  {
   "cell_type": "markdown",
   "metadata": {},
   "source": [
    "[Back to top](#Index)\n",
    "\n",
    "### 2.1 Import the Data\n",
    "\n",
    "__Import the necessary libraries and the data for the project. Include any auxiliary pandas *functions* that can be used to retrieve preliminary information about your data.\n",
    "\n",
    "__Make sure to include a description of the data.__\n",
    "\n",
    "import pandas as pd\n",
    "import numpy as np\n",
    "from sklearn import linear_model\n",
    "import matplotlib.pyplot as plt\n",
    "import seaborn as sns\n",
    "\n",
    "data = pd.read_csv(\"houseSmallData.csv\")\n",
    "\n",
    "#show statistics of dependent variable Y: SalePrice\n",
    "* count:   100.000000\n",
    "* mean:    173820.660000\n",
    "+ std:     72236.552886\n",
    "+ min:     40000.000000\n",
    "- 25%:     129362.500000\n",
    "- 50%:     153750.000000\n",
    "* 75%:     207750.000000\n",
    "* max:     438780.000000"
   ]
  },
  {
   "cell_type": "markdown",
   "metadata": {},
   "source": [
    "[Back to top](#Index)\n",
    "\n",
    "### 2.2 Data Exploration\n",
    "\n",
    "Create graphs displaying the relationships between the variables that you consider most important to solve the problem of predicting housing prices.\n",
    "\n",
    "\n",
    "Include a description of the results displayed by each *plot*.\n",
    "\n",
    "Correlation relationship matrix indicating top 8 independednt variable relationships with dependent variable - SalePrice\n",
    "\n",
    "* SalePrice:     1.000000\n",
    "* OverallQual:   0.855061\n",
    "* GrLivArea:     0.735129\n",
    "* GarageArea:    0.688249\n",
    "* BsmtQual_Ex:   0.680094\n",
    "* GarageCars:    0.663441\n",
    "* YearBuilt:     0.658636\n",
    "* TotalBsmtSF:   0.616297\n",
    "* GarageYrBlt:   0.589361\n",
    "\n",
    "![scatter_overqual](/Users/rajatnathan/Scatter_SP_OverallQual.png \"img_scatter_1\")"
   ]
  },
  {
   "cell_type": "markdown",
   "metadata": {},
   "source": [
    "[Back to top](#Index)\n",
    "\n",
    "### 2.3 Data Preparation\n",
    "\n",
    "**Determine if there are any missing values in the data. Did the data need to be reshaped? If yes, include a description of the steps you followed to clean the data.**\n",
    "\n",
    "The data shape of the original dataframe is time = 100 X 82.\n",
    "\n",
    "I then removed the columns with large number of NaNs - 15 or more count and interpolated the NaNs in the remaining numerical columns, so that i could work with a cleaner training data set. The data shape of the frame at this time = 100 X 77.\n",
    "\n",
    "From the remaining data set i identified the categorical data columns and used **one hot encoding** to transform categorical data into numerical columns(this process removed the small number of NaNs in categorical data). I then joined the categorical columns with the 'cleaned data set'; shape : 100 X 248 and then **dropped** the catrgorical columns from the 'cleaned data set'. The data shape of the frame at this time = 100 X 210. There are 38 categorical columns in the data.\n"
   ]
  },
  {
   "cell_type": "markdown",
   "metadata": {},
   "source": [
    "[Back to top](#Index)\n",
    "\n",
    "### 2.4 Correlation\n",
    "\n",
    "**Describe the correlation between the variables in your data. How can the correlation help you make an educated guess about how to proceed with your analysis? Will you explore different variables based on the correlation you found? If so, describe what you did and be sure to include what you found with the new set of variables.**\n",
    "\n",
    "Correlation relationship matrix indicating top 8 independednt variable relationships with dependent variable - SalePrice\n",
    "\n",
    "* SalePrice:     1.000000\n",
    "* OverallQual:   0.855061\n",
    "* GrLivArea:     0.735129\n",
    "* GarageArea:    0.688249\n",
    "* **BsmtQual_Ex:   0.680094**\n",
    "* GarageCars:    0.663441\n",
    "* YearBuilt:     0.658636\n",
    "* TotalBsmtSF:   0.616297\n",
    "* GarageYrBlt:   0.589361\n",
    "\n",
    "The independent variables identified in the dataframe after the **one hot encoding** process as described in the 'introduction' were assessed for correlation with the dependent variable 'SalePrice'.\n",
    "\n",
    "One of the new independent variables identified via this process was 'BsmtQual_Ex' with a correlation value of:  0.688249"
   ]
  },
  {
   "cell_type": "markdown",
   "metadata": {},
   "source": [
    "\n",
    "[Back to top](#Index)\n",
    "\n",
    "## 3. Project Description\n",
    "\n",
    "**Describe, using 150 words or less, how your analysis improves upon the analysis performed by Dr. Williams. Explain the variables that you analyzed, why you selected them, and what relationships you determined in your analysis.\n",
    "Make sure you explain specifically what findings you derived from your analysis of the data.**\n",
    "\n",
    "The use of **one hot encoding** in my analysis allows for the use of categorical data columns in addition to the numeric data columuns only (as demonstrated by Dr. Williams). This approach allowed for identicication of the **BsmtQual** variable whose value: 'Ex' (meaning excellent) was found to have a high level of correlation .680094 with the dependent variable - 'SalePrice', thus providing additional improvement to the model as per below findings:\n",
    "\n",
    "'Fitting' this data into the linear regression model from the sci-kit library (sklearn) resulted in a R^2 value of : **0.8824472376719946**\n",
    "\n",
    "Using this model R^2 value of the test data as : **0.7705677801288706**"
   ]
  },
  {
   "cell_type": "markdown",
   "metadata": {},
   "source": [
    "[Back to top](#Index)\n",
    "\n",
    "### 3.1 Linear Regression\n",
    "\n",
    "**Give a description (500 or less words) of the algorithm you use in this project. Include mathematical and computational details about linear regression.\n",
    "\n",
    "**Include details about the theory (origin of the method, derivation, and formulas) and the necessary steps to implement the algorithm using Python.**\n",
    "\n",
    "The housing pridiction model implemented here,  uses linear regression to compute the relationship between dependent and independent variablles. The model identifies this relationship through a linear equation that require computation of weights for each independednt variable that must be applied to the values of independent variables such that:\n",
    "Y = w1 * X1 + w2 * X2 + w3 * X3 ...."
   ]
  },
  {
   "cell_type": "markdown",
   "metadata": {},
   "source": [
    "[Back to top](#Index)\n",
    "\n",
    "### 3.2 Analysis \n",
    "\n",
    "**Implement the algorithm on your data according to the examples in Video 7.9 and Video 7.10.**\n",
    "\n",
    "**Try to improve the results of your model analysis by including a different number of variables in your code for linear regression. Use what you learned about the correlation between variables when you explored your data to help you select these variables.**\n",
    "\n",
    "**Compare the results of at least three different groups of variables. In other words, run a linear regression algorithm on at least three different sets of independent variables. How many variables to include in each set is up to you.**\n",
    "\n",
    "For each step, make sure you include your code. Ensure that your code is commented.\n",
    "\n",
    "\n",
    "Group 1 (baseline) : 8 independent variables : R^2 = 0.8824472376719946\n",
    "\n",
    "Group 2 (adversary_1) : 5 independent variables : R^2  = 0.836871490561969\n",
    "\n",
    "Group 3 (adversary_2) : 11 independent variables : R^2  = 0.8848705848801298\n",
    "\n",
    "As you can see, thhe correlation increases the number of independent variables are increased, however the increase is marginal as we go from 8 to 11 variables. As such, using 8 independent variables for pridication seems to be optimal for this data set"
   ]
  },
  {
   "cell_type": "markdown",
   "metadata": {},
   "source": [
    "[Back to top](#Index)\n",
    "\n",
    "### 3.3 Results\n",
    "\n",
    "**What are your results? Which model performed better? Can you explain why? Include a detailed summary and a description of the metrics used to compute the accuracy of your predictions.**\n",
    "\n",
    "**For each step, make sure you include your code. Ensure that your code is commented.**\n",
    "\n",
    "Group 1 (baseline) : 8 independent variables : R^2  = 0.8824472376719946 \n",
    "is the most optimal model and also produces an R^2 of value of the test data as : **0.7705677801288706**\n"
   ]
  },
  {
   "cell_type": "markdown",
   "metadata": {},
   "source": [
    "[Back to top](#Index)\n",
    "\n",
    "### 3.4 Verify Your Model Against Test Data\n",
    "\n",
    "**Now that you have a prediction model, it's time to test your model against test data to confirm its accuracy on new data. The test data is located in the file `jtest.csv` **\n",
    "\n",
    "**What do you observe? Are these results in accordance with what you found earlier? How can you justify this?**\n",
    "\n",
    "R^2 of value of the test data as : **0.7705677801288706**\n",
    "\n",
    "The reason for lower R^2 is perhaps due to certain biases in the training data that are unraveled when applying the model on the test data. \n",
    "\n",
    "It should be noted though that both training and sample data are small samples(in the global sense) and only consists of a 100 rows each. \n",
    "\n",
    "i believe that the model can be greatly improved with additional data (5-10 X)"
   ]
  },
  {
   "cell_type": "markdown",
   "metadata": {},
   "source": [
    "[Back to top](#Index)\n",
    "\n",
    "## Conclusion\n",
    "\n",
    "**Describe your conclusions. Explain which approach worked better in terms of results. What did you learn about data analysis techniques by creating your prediction model?**\n",
    "\n",
    "The approach that worked best was using:\n",
    "1. Data preparation and cleasing - removing NaNs in the data\n",
    "2. Using one hot encoding to transform the categorical data intro numeric data\n",
    "3. Using highly correlated variables to the dependent variable and finding the optimal number of variables to be used \n",
    "\n",
    "I learned a lot during this exercise about data modeling. Key lessons for me:\n",
    "* Experimentation to identify if the dependent variable should be used in the predication model or a function of the dependent variable such as log of 'SalePrice'(i confirmed that model R^2 using this approach was lesser than without conversion. .85 vs .88 respectively)\n",
    "* Use a larger set of data where possible. This becomes evident given the large difference between model R^2 between training and test data sets\n"
   ]
  },
  {
   "cell_type": "markdown",
   "metadata": {},
   "source": [
    "\n",
    "[Back to top](#Index\n",
    ")\n",
    "## References\n",
    "\n",
    "Add all references you used to complete this project.\n",
    "\n",
    "Use this format for articles:\n",
    "- Author Last Name, Author First Name. “Article Title.” Journal Title Volume #, no. Issue # (year): page range.\n",
    "\n",
    "- Ex: Doe, John. “Data Engineering.” Data Engineering Journal 18, no. 4 (2021): 12-18.\n",
    "\n",
    "Use this format for websites:\n",
    "- Author Last Name, Author First Name. “Title of Web Page.” Name of Website. Publishing organization, publication or revision date if available. Access date if no other date is available. URL .\n",
    "\n",
    "- Doe, John. “Data Engineering.” Data Engineer Resource. Cengage, 2021. www.dataengineerresource.com .\n"
   ]
  },
  {
   "cell_type": "code",
   "execution_count": null,
   "metadata": {},
   "outputs": [],
   "source": []
  }
 ],
 "metadata": {
  "kernelspec": {
   "display_name": "Python 3",
   "language": "python",
   "name": "python3"
  },
  "language_info": {
   "codemirror_mode": {
    "name": "ipython",
    "version": 3
   },
   "file_extension": ".py",
   "mimetype": "text/x-python",
   "name": "python",
   "nbconvert_exporter": "python",
   "pygments_lexer": "ipython3",
   "version": "3.8.8"
  }
 },
 "nbformat": 4,
 "nbformat_minor": 4
}
